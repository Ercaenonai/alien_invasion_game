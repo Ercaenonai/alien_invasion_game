{
 "cells": [
  {
   "cell_type": "code",
   "execution_count": 6,
   "metadata": {},
   "outputs": [],
   "source": [
    "import pygame\n",
    "\n",
    "class Ship:\n",
    "    #class to manage ship\n",
    "    \n",
    "    def __init__(self, ai_game):\n",
    "        #initialize the ship and set starting position\n",
    "        self.screen = ai_game.screen\n",
    "        self.settings = ai_game.settings\n",
    "        self.screen_rect = ai_game.screen.get_rect()\n",
    "        \n",
    "        #load the ship image and get its rect\n",
    "        self.image = pygame.image.load('ship.bmp')\n",
    "        self.rect = self.image.get_rect()\n",
    "        \n",
    "        #start ship at bottom center\n",
    "        self.rect.midbottom = self.screen_rect.midbottom\n",
    "        \n",
    "        #store decimal for ship position\n",
    "        self.x = float(self.rect.x)\n",
    "        \n",
    "        #movement flag\n",
    "        self.moving_right = False\n",
    "        self.moving_left = False\n",
    "    \n",
    "    def update(self):\n",
    "        #update position based on movement flag\n",
    "        if self.moving_right and self.rect.right < self.screen_rect.right:\n",
    "            self.x += self.settings.ship_speed\n",
    "        if self.moving_left and self.rect.left >0:\n",
    "            self.x -= self.settings.ship_speed\n",
    "        \n",
    "        #update rect obj. from self.x\n",
    "        self.rect.x = self.x\n",
    "            \n",
    "    def blitme(self):\n",
    "        #draw ship at current location\n",
    "        self.screen.blit(self.image, self.rect)\n"
   ]
  },
  {
   "cell_type": "code",
   "execution_count": null,
   "metadata": {},
   "outputs": [],
   "source": []
  }
 ],
 "metadata": {
  "kernelspec": {
   "display_name": "Python 3",
   "language": "python",
   "name": "python3"
  },
  "language_info": {
   "codemirror_mode": {
    "name": "ipython",
    "version": 3
   },
   "file_extension": ".py",
   "mimetype": "text/x-python",
   "name": "python",
   "nbconvert_exporter": "python",
   "pygments_lexer": "ipython3",
   "version": "3.7.3"
  }
 },
 "nbformat": 4,
 "nbformat_minor": 2
}
