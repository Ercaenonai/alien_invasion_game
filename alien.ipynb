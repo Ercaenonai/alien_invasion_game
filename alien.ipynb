{
 "cells": [
  {
   "cell_type": "code",
   "execution_count": null,
   "metadata": {},
   "outputs": [],
   "source": [
    "import pygame\n",
    "from pygame.sprite import Sprite\n",
    "\n",
    "class Alien(Sprite):\n",
    "#class represents single alien\n",
    "    \n",
    "    def __init__(self, ai_game):\n",
    "        #initialize alien and set starting position\n",
    "        super().__init__()\n",
    "        self.screen = ai_game.screen\n",
    "        self.settings = ai_game.settings\n",
    "        \n",
    "        #load alien image and set its rect.\n",
    "        self.image = pygame.image.load('alien2.bmp')\n",
    "        self.rect = self.image.get_rect()\n",
    "        \n",
    "        #start each one at top left\n",
    "        self.rect.x = self.rect.width\n",
    "        self.rect.y = self.rect.height\n",
    "        \n",
    "        #store the alien's exact horizontal position\n",
    "        self.x = float(self.rect.x)\n",
    "    \n",
    "    #check if alien at edge of screen\n",
    "    def check_edges(self):\n",
    "        screen_rect = self.screen.get_rect()\n",
    "        if self.rect.right >= screen_rect.right or self.rect.left <= 0:\n",
    "            return True\n",
    "    \n",
    "       #move alien to right\n",
    "    def update(self):\n",
    "        self.x += (self.settings.alien_speed *\n",
    "                   self.settings.fleet_direction)\n",
    "        self.rect.x = self.x\n",
    "        "
   ]
  }
 ],
 "metadata": {
  "kernelspec": {
   "display_name": "Python 3",
   "language": "python",
   "name": "python3"
  },
  "language_info": {
   "codemirror_mode": {
    "name": "ipython",
    "version": 3
   },
   "file_extension": ".py",
   "mimetype": "text/x-python",
   "name": "python",
   "nbconvert_exporter": "python",
   "pygments_lexer": "ipython3",
   "version": "3.7.3"
  }
 },
 "nbformat": 4,
 "nbformat_minor": 2
}
