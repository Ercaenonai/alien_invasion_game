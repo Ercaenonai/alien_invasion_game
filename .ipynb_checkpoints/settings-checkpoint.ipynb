{
 "cells": [
  {
   "cell_type": "code",
   "execution_count": 2,
   "metadata": {},
   "outputs": [],
   "source": [
    "class Settings:\n",
    "    #class to store all settings for game\n",
    "    \n",
    "    def __init__(self):\n",
    "        #initialize game settings\n",
    "        self.screen_width = 1200\n",
    "        self.screen_height = 800\n",
    "        self.bg_color = (0, 0, 0)\n",
    "        \n",
    "        #ship speed setting\n",
    "        self.ship_speed = 1.5\n",
    "        \n",
    "        #bullet settings\n",
    "        self.bullet_speed = 1.5\n",
    "        self.bullet_width = 3\n",
    "        self.bullet_height = 15\n",
    "        self.bullet_color = (60, 60, 60)\n",
    "        self.bullets_allowed = 3\n",
    "        \n",
    "        #alien settings\n",
    "        self.alien_speed = 1.0\n",
    "        self.fleet_drop_speed = 10\n",
    "        #fleet direction 1 is right -1 is left\n",
    "        self.fleet_direction = 1\n",
    "        \n",
    "        ship_limit = 3\n",
    "        "
   ]
  }
 ],
 "metadata": {
  "kernelspec": {
   "display_name": "Python 3",
   "language": "python",
   "name": "python3"
  },
  "language_info": {
   "codemirror_mode": {
    "name": "ipython",
    "version": 3
   },
   "file_extension": ".py",
   "mimetype": "text/x-python",
   "name": "python",
   "nbconvert_exporter": "python",
   "pygments_lexer": "ipython3",
   "version": "3.7.3"
  }
 },
 "nbformat": 4,
 "nbformat_minor": 2
}
