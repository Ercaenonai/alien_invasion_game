{
 "cells": [
  {
   "cell_type": "code",
   "execution_count": null,
   "metadata": {},
   "outputs": [],
   "source": [
    "class GameStats:\n",
    "    \n",
    "    def __init__(self, ai_game):\n",
    "        #initialize stats\n",
    "        self.settings = ai_game.settings\n",
    "        self.reset_stats()\n",
    "        self.game_active = True\n",
    "        \n",
    "    def reset_stats(self):\n",
    "        #initialize stats that change during game\n",
    "        self.ships_left = self.settings.ship_limit"
   ]
  }
 ],
 "metadata": {
  "kernelspec": {
   "display_name": "Python 3",
   "language": "python",
   "name": "python3"
  },
  "language_info": {
   "codemirror_mode": {
    "name": "ipython",
    "version": 3
   },
   "file_extension": ".py",
   "mimetype": "text/x-python",
   "name": "python",
   "nbconvert_exporter": "python",
   "pygments_lexer": "ipython3",
   "version": "3.7.3"
  }
 },
 "nbformat": 4,
 "nbformat_minor": 2
}
